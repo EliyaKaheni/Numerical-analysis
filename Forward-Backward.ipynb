{
 "cells": [
  {
   "cell_type": "code",
   "execution_count": 15,
   "id": "47e110c2",
   "metadata": {},
   "outputs": [],
   "source": [
    "from math import cos, pi\n",
    "import numpy as np"
   ]
  },
  {
   "cell_type": "code",
   "execution_count": 16,
   "id": "a3fb977e",
   "metadata": {},
   "outputs": [],
   "source": [
    "def f(x):\n",
    "    return cos(7*x)"
   ]
  },
  {
   "cell_type": "code",
   "execution_count": 17,
   "id": "5823dff9",
   "metadata": {},
   "outputs": [],
   "source": [
    "def table(y):\n",
    "    n = len(y)\n",
    "    table = [y.copy()]\n",
    "    for i in range(1, n):\n",
    "        row = [table[i - 1][j + 1] - table[i - 1][j] for j in range(n - i)]\n",
    "        table.append(row)\n",
    "    return table"
   ]
  },
  {
   "cell_type": "code",
   "execution_count": 18,
   "id": "d698c6cd",
   "metadata": {},
   "outputs": [],
   "source": [
    "def fact(n):\n",
    "    f = 1\n",
    "    for i in range(2, n + 1):\n",
    "        f *= i\n",
    "    return f\n"
   ]
  },
  {
   "cell_type": "code",
   "execution_count": 19,
   "id": "da78927d",
   "metadata": {},
   "outputs": [],
   "source": [
    "def forward(x, table, x_test):\n",
    "    h = x[1] - x[0]\n",
    "    answers = []\n",
    "    n = len(table[0])\n",
    "    for i in range(n):\n",
    "        tetha = (x_test - x[i]) / h\n",
    "        ans = 0\n",
    "        for j in range(n-i):\n",
    "            xs = 1\n",
    "            for k in range(j):\n",
    "                xs *= tetha - k\n",
    "            ans += table[j][i] * xs / fact(j)\n",
    "        answers.append(ans)\n",
    "    return answers\n"
   ]
  },
  {
   "cell_type": "code",
   "execution_count": 20,
   "id": "e62b2d5e",
   "metadata": {},
   "outputs": [
    {
     "name": "stdout",
     "output_type": "stream",
     "text": [
      "[9, 8, 7, 6, 5, 4, 3, 2, 1, 0]\n"
     ]
    }
   ],
   "source": [
    "a = list(range(10-1, -1, -1))\n",
    "print(a)"
   ]
  },
  {
   "cell_type": "code",
   "execution_count": 21,
   "id": "23c01e33",
   "metadata": {},
   "outputs": [],
   "source": [
    "def backward(x, table, x_test):\n",
    "    h = x[1] - x[0]\n",
    "    answers = []\n",
    "    n = len(table[0])\n",
    "    for i in range(1,n+1):\n",
    "        tetha = (x_test - x[-i]) / h\n",
    "        ans = 0\n",
    "        for j in range(n+1-i):\n",
    "            xs = 1\n",
    "            for k in range(j):\n",
    "                xs *= tetha + k\n",
    "            ans += table[j][-i] * xs / fact(j)\n",
    "        answers.append(ans)\n",
    "    return answers"
   ]
  },
  {
   "cell_type": "code",
   "execution_count": 22,
   "id": "4c3503e1",
   "metadata": {},
   "outputs": [
    {
     "name": "stdout",
     "output_type": "stream",
     "text": [
      "[-0.9366152928428719, -0.9364745939812403, -0.9355017055265775, -0.9343134875855246, -0.9441622008220844, -1.091533580569414, -1.0915335805694142, 0.7071067811865474]\n",
      "[-0.9366152928428721, -0.9368617885805413, -0.9341632350320365, -0.8833222068879362, -0.8833222068879365, -3.4952170219542884, -0.305231300023198, 1.0]\n",
      "-0.9364566872907963\n"
     ]
    }
   ],
   "source": [
    "# points\n",
    "x_set = [i*pi/28 for i in range(8)]\n",
    "y_set = [f(x) for x in x_set]\n",
    "\n",
    "# forward\n",
    "x_test = 0.5\n",
    "y_test_true = f(x_test)\n",
    "\n",
    "tab = table(y_set)\n",
    "\n",
    "forward_answers = forward(x_set, tab , x_test)\n",
    "backward_answers = backward(x_set, tab , x_test)\n",
    "print(forward_answers)\n",
    "print(backward_answers)\n",
    "print(y_test_true)\n"
   ]
  },
  {
   "cell_type": "code",
   "execution_count": 23,
   "id": "305dc4f6",
   "metadata": {},
   "outputs": [
    {
     "name": "stdout",
     "output_type": "stream",
     "text": [
      "[0.0001586055520755858, 1.7906690443991735e-05, 0.0009549817642188208, 0.00214319970527177, 0.007705513531288011, 0.15507689327861762, 0.15507689327861784, 1.6435634684773437]\n",
      "[0.00015860555207580784, 0.00040510128974491355, 0.002293452258759876, 0.053134480402860174, 0.05313448040285984, 2.558760334663492, 0.6312253872675984, 1.9364566872907965]\n"
     ]
    }
   ],
   "source": [
    "forward_errors = [abs(ans - y_test_true) for ans in forward_answers]\n",
    "print(forward_errors)\n",
    "backward_errors = [abs(ans - y_test_true) for ans in backward_answers]\n",
    "print(backward_errors)"
   ]
  },
  {
   "cell_type": "code",
   "execution_count": 24,
   "id": "0311f661",
   "metadata": {},
   "outputs": [
    {
     "name": "stdout",
     "output_type": "stream",
     "text": [
      "1\n",
      "0\n"
     ]
    }
   ],
   "source": [
    "print(np.argmin(forward_errors))\n",
    "print(np.argmin(backward_errors))"
   ]
  }
 ],
 "metadata": {
  "kernelspec": {
   "display_name": "Python 3",
   "language": "python",
   "name": "python3"
  },
  "language_info": {
   "codemirror_mode": {
    "name": "ipython",
    "version": 3
   },
   "file_extension": ".py",
   "mimetype": "text/x-python",
   "name": "python",
   "nbconvert_exporter": "python",
   "pygments_lexer": "ipython3",
   "version": "3.12.3"
  }
 },
 "nbformat": 4,
 "nbformat_minor": 5
}
