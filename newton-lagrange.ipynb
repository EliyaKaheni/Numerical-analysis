{
 "cells": [
  {
   "cell_type": "code",
   "execution_count": 1,
   "id": "47e110c2",
   "metadata": {},
   "outputs": [],
   "source": [
    "from math import cos, pi\n",
    "import numpy as np\n",
    "from scipy.interpolate import lagrange"
   ]
  },
  {
   "cell_type": "code",
   "execution_count": 2,
   "id": "a3fb977e",
   "metadata": {},
   "outputs": [],
   "source": [
    "def f(x):\n",
    "    return cos(pi*x)"
   ]
  },
  {
   "cell_type": "code",
   "execution_count": 3,
   "id": "5823dff9",
   "metadata": {},
   "outputs": [],
   "source": [
    "def table(y):\n",
    "    n = len(y)\n",
    "    table = [y.copy()]\n",
    "    for i in range(1, n):\n",
    "        row = [table[i - 1][j + 1] - table[i - 1][j] for j in range(n - i)]\n",
    "        table.append(row)\n",
    "    return table"
   ]
  },
  {
   "cell_type": "code",
   "execution_count": 4,
   "id": "d698c6cd",
   "metadata": {},
   "outputs": [],
   "source": [
    "def fact(n):\n",
    "    f = 1\n",
    "    for i in range(2, n + 1):\n",
    "        f *= i\n",
    "    return f\n"
   ]
  },
  {
   "cell_type": "code",
   "execution_count": 5,
   "id": "da78927d",
   "metadata": {},
   "outputs": [],
   "source": [
    "def forward(x, table, x_test):\n",
    "    h = x[1] - x[0]\n",
    "    answers = []\n",
    "    n = len(table[0])\n",
    "    for i in range(n):\n",
    "        tetha = (x_test - x[i]) / h\n",
    "        ans = 0\n",
    "        for j in range(n-i):\n",
    "            xs = 1\n",
    "            for k in range(j):\n",
    "                xs *= tetha - k\n",
    "            ans += table[j][i] * xs / fact(j)\n",
    "        answers.append(ans)\n",
    "    return answers\n"
   ]
  },
  {
   "cell_type": "code",
   "execution_count": 6,
   "id": "23c01e33",
   "metadata": {},
   "outputs": [],
   "source": [
    "def backward(x, table, x_test):\n",
    "    h = x[1] - x[0]\n",
    "    answers = []\n",
    "    n = len(table[0])\n",
    "    for i in range(1,n+1):\n",
    "        tetha = (x_test - x[-i]) / h\n",
    "        ans = 0\n",
    "        for j in range(n+1-i):\n",
    "            xs = 1\n",
    "            for k in range(j):\n",
    "                xs *= tetha + k\n",
    "            ans += table[j][-i] * xs / fact(j)\n",
    "        answers.append(ans)\n",
    "    return answers"
   ]
  },
  {
   "cell_type": "code",
   "execution_count": 7,
   "id": "4c3503e1",
   "metadata": {},
   "outputs": [
    {
     "name": "stdout",
     "output_type": "stream",
     "text": [
      "x_set: [0.0, 0.7853981633974483, 1.5707963267948966, 2.356194490192345, 3.141592653589793]\n",
      "y_set: [1.0, -0.7812118921104881, 0.22058404074969779, 0.43656614042359126, -0.9026853619330714]\n",
      "forward answers: [-0.5708849141126661, -1.3363463682216083, -3.0194521125684353, 3.7846948963152482, -0.9026853619330714]\n",
      "backward answers: [-0.5708849141126662, -0.46153327781138875, -0.23848192417657854, 0.10939405394475588, 1.0]\n",
      "True value: 0.3307477194853442\n"
     ]
    }
   ],
   "source": [
    "# points\n",
    "x_set = [i*pi/4 for i in range(5)]\n",
    "y_set = [f(x) for x in x_set]\n",
    "print(\"x_set:\", x_set)\n",
    "print(\"y_set:\", y_set)\n",
    "\n",
    "# forward\n",
    "x_test = pi/8\n",
    "y_true = f(x_test)\n",
    "\n",
    "tab = table(y_set)\n",
    "\n",
    "forward_answers = forward(x_set, tab , x_test)\n",
    "backward_answers = backward(x_set, tab , x_test)\n",
    "print(\"forward answers:\", forward_answers)\n",
    "print(\"backward answers:\", backward_answers)\n",
    "print(\"True value:\" , y_true)"
   ]
  },
  {
   "cell_type": "code",
   "execution_count": 8,
   "id": "305dc4f6",
   "metadata": {},
   "outputs": [
    {
     "name": "stdout",
     "output_type": "stream",
     "text": [
      "forward errors: [0.9016326335980103, 1.6670940877069524, 3.3501998320537796, 3.453947176829904, 1.2334330814184156]\n",
      "backward errors: [0.9016326335980104, 0.792280997296733, 0.5692296436619227, 0.22135366554058833, 0.6692522805146558]\n"
     ]
    }
   ],
   "source": [
    "forward_errors = [abs(ans - y_true) for ans in forward_answers]\n",
    "print(\"forward errors:\", forward_errors)\n",
    "backward_errors = [abs(ans - y_true) for ans in backward_answers]\n",
    "print(\"backward errors:\", backward_errors)"
   ]
  },
  {
   "cell_type": "code",
   "execution_count": 9,
   "id": "0311f661",
   "metadata": {},
   "outputs": [
    {
     "name": "stdout",
     "output_type": "stream",
     "text": [
      "0\n",
      "3\n"
     ]
    }
   ],
   "source": [
    "print(np.argmin(forward_errors))\n",
    "print(np.argmin(backward_errors))"
   ]
  },
  {
   "cell_type": "code",
   "execution_count": 10,
   "id": "aeaa85ca",
   "metadata": {},
   "outputs": [
    {
     "name": "stdout",
     "output_type": "stream",
     "text": [
      "lagarange answer: -0.5708849141126657\n",
      "True value: 0.3307477194853442\n",
      "error: 0.9016326335980099\n"
     ]
    }
   ],
   "source": [
    "poly = lagrange(x_set, y_set)\n",
    "y_poly = poly(x_test)\n",
    "print(\"lagarange answer:\", y_poly)\n",
    "print(\"True value:\" , y_true)\n",
    "print(\"error:\", abs(y_poly - y_true))"
   ]
  }
 ],
 "metadata": {
  "kernelspec": {
   "display_name": "Python 3",
   "language": "python",
   "name": "python3"
  },
  "language_info": {
   "codemirror_mode": {
    "name": "ipython",
    "version": 3
   },
   "file_extension": ".py",
   "mimetype": "text/x-python",
   "name": "python",
   "nbconvert_exporter": "python",
   "pygments_lexer": "ipython3",
   "version": "3.12.3"
  }
 },
 "nbformat": 4,
 "nbformat_minor": 5
}
